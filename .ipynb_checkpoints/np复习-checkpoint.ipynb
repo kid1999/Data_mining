{
 "cells": [
  {
   "cell_type": "markdown",
   "metadata": {},
   "source": [
    "# numpy入门"
   ]
  },
  {
   "cell_type": "code",
   "execution_count": 8,
   "metadata": {},
   "outputs": [
    {
     "name": "stdout",
     "output_type": "stream",
     "text": [
      "[[1 2 3]\n",
      " [4 5 6]]\n",
      "维度: 2\n",
      "形状: (2, 3)\n",
      "元素数: 6\n"
     ]
    }
   ],
   "source": [
    "import numpy as np\n",
    "array = np.array([[1,2,3],[4,5,6]])\n",
    "print(array)\n",
    "print('维度:',array.ndim)\n",
    "print('形状:',array.shape)\n",
    "print('元素数:',array.size)"
   ]
  },
  {
   "cell_type": "markdown",
   "metadata": {},
   "source": [
    "# numpy创建array"
   ]
  },
  {
   "cell_type": "code",
   "execution_count": 9,
   "metadata": {},
   "outputs": [
    {
     "name": "stdout",
     "output_type": "stream",
     "text": [
      "[ 2 23  4]\n",
      "int32\n",
      "[[ 2 23  4]\n",
      " [ 4  5  6]]\n",
      "[[ 0.  0.  0.  0.]\n",
      " [ 0.  0.  0.  0.]\n",
      " [ 0.  0.  0.  0.]]\n",
      "[[ 1.  1.  1.  1.]\n",
      " [ 1.  1.  1.  1.]\n",
      " [ 1.  1.  1.  1.]]\n",
      "[0 2 4 6 8]\n",
      "[[ 0  1  2  3]\n",
      " [ 4  5  6  7]\n",
      " [ 8  9 10 11]]\n",
      "[  1.     3.25   5.5    7.75  10.  ]\n"
     ]
    }
   ],
   "source": [
    "import numpy as np\n",
    "#定义属性dtype\n",
    "#定义形状reshape\n",
    "#定义初始矩阵得值 empty/zeros/ones  方法((2,3))\n",
    "#生成矩阵array()\n",
    "#生成数列arange()\n",
    "#生成线段linespace()\n",
    "\n",
    "\n",
    "array = np.array([2,23,4],dtype = np.int)\n",
    "print(array)\n",
    "print(array.dtype)                #返回定义array的属性\n",
    "\n",
    "array1 = np.array([[2,23,4],[4,5,6]])     #定义二维矩阵 用[]包括\n",
    "print(array1)\n",
    "\n",
    "\n",
    "array2 = np.zeros((3,4))   #生成三排四列 值为0的矩阵\n",
    "print(array2)\n",
    "\n",
    "array3 = np.ones((3,4))    # 值为1\n",
    "print(array3)\n",
    " \n",
    "a = np.arange(0,10,2)   #生成一个0-10 步长为2的数组\n",
    "print(a)\n",
    "\n",
    "a1 = np.arange(12).reshape((3,4))  #生成0-12的 形状为3,4的矩阵\n",
    "print(a1)\n",
    "\n",
    "a2 = np.linspace(1,10,5)    #生成1-10的 分5段 的数列\n",
    "print(a2)\n"
   ]
  },
  {
   "cell_type": "markdown",
   "metadata": {},
   "source": [
    "# numpy的基本运算1"
   ]
  },
  {
   "cell_type": "code",
   "execution_count": 10,
   "metadata": {},
   "outputs": [
    {
     "name": "stdout",
     "output_type": "stream",
     "text": [
      "[[0 1]\n",
      " [2 3]]\n",
      "[[10 20]\n",
      " [30 40]]\n",
      "[[  0  20]\n",
      " [ 60 120]]\n",
      "[[ 30  40]\n",
      " [110 160]]\n"
     ]
    }
   ],
   "source": [
    "import numpy as np\n",
    "\n",
    "# #一维数组:\n",
    "a = np.arange(4)\n",
    "b = np.array([10,20,30,40])\n",
    "\n",
    "# #必须是一一对应运算\n",
    "# c = a+b \n",
    "# c = a*b     \n",
    "# # c = b**a   #乘方运算\n",
    "# # c = np.sin(a)  #三角函数运算\n",
    "\n",
    "# print(a)\n",
    "# print(a<3)    #布尔值返回判断结果\n",
    "# print(b)\n",
    "# print(c)\n",
    "# print(np.dot(a,b))    #一维数组的dot ，np.dot([1,2,3],[4,5,6]) = 1*4 + 2*5 + 3*6  = 32\n",
    "\n",
    "\n",
    "#二维矩阵:\n",
    "a = np.arange(4).reshape((2,2))\n",
    "b = np.array([[10,20],[30,40]])\n",
    "\n",
    "c = a*b   #基础运算\n",
    "c_dot = np.dot(a,b)   #二维矩阵的dot \n",
    "\n",
    "print(a)\n",
    "print(b)\n",
    "print(c)\n",
    "print(c_dot)\n"
   ]
  },
  {
   "cell_type": "markdown",
   "metadata": {},
   "source": [
    "# numpy的基本运算2"
   ]
  },
  {
   "cell_type": "code",
   "execution_count": 11,
   "metadata": {},
   "outputs": [
    {
     "name": "stdout",
     "output_type": "stream",
     "text": [
      "[[1 2 3]\n",
      " [4 5 6]]\n",
      "最小值索引: 0\n",
      "最大值索引: 5\n",
      "平均值: 3.5\n",
      "平均值的属性: [ 2.5  3.5  4.5]\n",
      "中位数: 3.5\n",
      "累加: [ 1  3  6 10 15 21]\n",
      "累差: [[1 1]\n",
      " [1 1]]\n",
      "得到非零数的位置: (array([0, 0, 0, 1, 1, 1], dtype=int64), array([0, 1, 2, 0, 1, 2], dtype=int64))\n",
      "排序: [[1 2 3]\n",
      " [4 5 6]]\n",
      "矩阵转置: [[1 4]\n",
      " [2 5]\n",
      " [3 6]]\n",
      "矩阵运算中的转置: [[17 22 27]\n",
      " [22 29 36]\n",
      " [27 36 45]]\n",
      "滤波: [[2 2 3]\n",
      " [4 5 5]]\n"
     ]
    }
   ],
   "source": [
    "import numpy as np\n",
    "array = np.array([[1,2,3],[4,5,6]])\n",
    "print(array)\n",
    "print('最小值索引:',np.argmin(array))\n",
    "print('最大值索引:',np.argmax(array))\n",
    "print('平均值:',np.mean(array))\n",
    "#扩展:\n",
    "print('平均值的属性:',np.mean(array,axis=0))      #axis=0对列进行平均值计算,axis=1对行进行平均值计算\n",
    "print('中位数:',np.median(array))\n",
    "print('累加:',np.cumsum(array))                  #输出一维矩阵 \n",
    "print('累差:',np.diff(array))                    #输出二维矩阵\n",
    "print('得到非零数的位置:',np.nonzero(array))      #输出行矩阵,列矩阵\n",
    "print('排序:',np.sort(array))                    #逐行排序\n",
    "print('矩阵转置:',np.transpose(array))           #行列转换\n",
    "print('矩阵运算中的转置:',(array.T).dot(array))\n",
    "print('滤波:',np.clip(array,2,5))                #最小值为2,最大值5 \n"
   ]
  },
  {
   "cell_type": "markdown",
   "metadata": {},
   "source": [
    "# numpy的索引"
   ]
  },
  {
   "cell_type": "code",
   "execution_count": 12,
   "metadata": {},
   "outputs": [
    {
     "name": "stdout",
     "output_type": "stream",
     "text": [
      "[[1 2 3]\n",
      " [4 5 6]]\n",
      "行索引: [4 5 6]\n",
      "列索引: [2 5]\n",
      "行列索引: 5\n",
      "另一种写法: 5\n",
      "[1 2 3]\n",
      "[4 5 6]\n",
      "[1 4]\n",
      "[2 5]\n",
      "[3 6]\n",
      "[1 2 3 4 5 6]\n",
      "1\n",
      "2\n",
      "3\n",
      "4\n",
      "5\n",
      "6\n"
     ]
    }
   ],
   "source": [
    "import numpy as np\n",
    "array = np.array([[1,2,3],[4,5,6]])\n",
    "print(array)\n",
    "print('行索引:',array[1])\n",
    "print('列索引:',array[:,1])\n",
    "print('行列索引:',array[1][1])\n",
    "print('另一种写法:',array[1,1])\n",
    "\n",
    "for row in array:\n",
    "    print(row)     #迭代每一行\n",
    "\n",
    "for column in array.T:\n",
    "    print(column)  #迭代每一列\n",
    "\n",
    "print(array.flatten()) #返回一个序列\n",
    "for item in array.flat:#迭代每一个值\n",
    "    print(item)\n",
    "\n"
   ]
  },
  {
   "cell_type": "markdown",
   "metadata": {},
   "source": [
    "# numpy的合并"
   ]
  },
  {
   "cell_type": "code",
   "execution_count": 13,
   "metadata": {},
   "outputs": [
    {
     "name": "stdout",
     "output_type": "stream",
     "text": [
      "[[1]\n",
      " [1]\n",
      " [1]]\n",
      "[[2]\n",
      " [2]\n",
      " [2]]\n",
      "[[1 2 1]\n",
      " [1 2 1]\n",
      " [1 2 1]]\n"
     ]
    }
   ],
   "source": [
    "import numpy as np\n",
    "a = np.array([1,1,1])\n",
    "b = np.array([2,2,2])\n",
    "\n",
    "\n",
    "# print(np.vstack((a,b)))  #上下合并\n",
    "# print(np.hstack((a,b)))  #左右合并\n",
    "# #添加一个维度:         #也可以直接reshape\n",
    "# print(a.shape)\n",
    "# print(a[:,np.newaxis])# 在纵向加一个维度\n",
    "# print(a[np.newaxis,:])# 在横向加一个维度\n",
    "# print(a[:,np.newaxis].shape)\n",
    "\n",
    "#综合\n",
    "a = np.array([1,1,1])[:,np.newaxis]  \n",
    "b = np.array([2,2,2])[:,np.newaxis]  # 产生竖向矩阵\n",
    "print(a)\n",
    "print(b)\n",
    "c = np.concatenate((a,b,a),axis=1)   #axis=1横向合并\n",
    "print(c)\n"
   ]
  },
  {
   "cell_type": "markdown",
   "metadata": {},
   "source": [
    "# numpy的分割"
   ]
  },
  {
   "cell_type": "code",
   "execution_count": 14,
   "metadata": {},
   "outputs": [
    {
     "name": "stdout",
     "output_type": "stream",
     "text": [
      "[[ 0  1  2  3]\n",
      " [ 4  5  6  7]\n",
      " [ 8  9 10 11]]\n",
      "[array([[0, 1],\n",
      "       [4, 5],\n",
      "       [8, 9]]), array([[ 2,  3],\n",
      "       [ 6,  7],\n",
      "       [10, 11]])]\n",
      "[array([[0, 1],\n",
      "       [4, 5],\n",
      "       [8, 9]]), array([[ 2],\n",
      "       [ 6],\n",
      "       [10]]), array([[ 3],\n",
      "       [ 7],\n",
      "       [11]])]\n"
     ]
    }
   ],
   "source": [
    "import numpy as np\n",
    "a = np.arange(12).reshape(3,4)\n",
    "print(a)\n",
    "\n",
    "print(np.split(a,2,axis=1)) #等量 横向分割成2块\n",
    "print(np.array_split(a,3,axis=1)) #不等量 横向分割成3块\n",
    "\n",
    "#也可以用:\n",
    "# print(np.vsplit(a,3)) #上下分成3行\n",
    "# print(np.hsplit(a,2)) #左右分成2列\n"
   ]
  },
  {
   "cell_type": "markdown",
   "metadata": {},
   "source": [
    "# numpy的赋值"
   ]
  },
  {
   "cell_type": "code",
   "execution_count": null,
   "metadata": {
    "collapsed": true
   },
   "outputs": [],
   "source": [
    "import numpy as np\n",
    "a = np.arange(4)\n",
    "print(a)\n",
    "\n",
    "#赋值:  b,c,d 完完全全一样,改变一个全部改变.\n",
    "# b=a\n",
    "# c=a\n",
    "# d=b\n",
    "# print(a,b,c,d)\n",
    "\n",
    "#或者：\n",
    "# f = a[:]\n",
    "\n",
    "#copy :  b 只得到copy时的值,不会具有后续的关联性\n",
    "b = a.copy() #deepcopy()\n",
    "\n",
    "a[2] = 11\n",
    "print(a[2],b[2])\n"
   ]
  },
  {
   "cell_type": "code",
   "execution_count": null,
   "metadata": {
    "collapsed": true
   },
   "outputs": [],
   "source": []
  }
 ],
 "metadata": {
  "kernelspec": {
   "display_name": "Python 3",
   "language": "python",
   "name": "python3"
  },
  "language_info": {
   "codemirror_mode": {
    "name": "ipython",
    "version": 3
   },
   "file_extension": ".py",
   "mimetype": "text/x-python",
   "name": "python",
   "nbconvert_exporter": "python",
   "pygments_lexer": "ipython3",
   "version": "3.6.3"
  }
 },
 "nbformat": 4,
 "nbformat_minor": 2
}
