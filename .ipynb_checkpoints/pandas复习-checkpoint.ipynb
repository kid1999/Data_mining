{
 "cells": [
  {
   "cell_type": "markdown",
   "metadata": {},
   "source": [
    "# pandas入门"
   ]
  },
  {
   "cell_type": "code",
   "execution_count": 3,
   "metadata": {},
   "outputs": [
    {
     "name": "stdout",
     "output_type": "stream",
     "text": [
      "0     1.0\n",
      "1     3.0\n",
      "2     6.0\n",
      "3     NaN\n",
      "4    44.0\n",
      "5     1.0\n",
      "dtype: float64\n",
      "DatetimeIndex(['2018-07-23', '2018-07-24', '2018-07-25', '2018-07-26',\n",
      "               '2018-07-27', '2018-07-28'],\n",
      "              dtype='datetime64[ns]', freq='D')\n"
     ]
    }
   ],
   "source": [
    "import numpy as np\n",
    "import pandas as pd\n",
    "\n",
    "#Series  DataFrame  DataFrame 的一些简单运用\n",
    "\n",
    "\n",
    "s = pd.Series([1,3,6,np.nan,44,1])  #生成一个有序号的一维数组\n",
    "print(s)\n",
    "\n",
    "\n",
    "dates = pd.date_range('20180723',periods=6)   #顺序生成6个时间的一维数组\n",
    "print(dates)\n"
   ]
  },
  {
   "cell_type": "code",
   "execution_count": 4,
   "metadata": {},
   "outputs": [
    {
     "name": "stdout",
     "output_type": "stream",
     "text": [
      "                   a         b         c         d\n",
      "2018-07-23 -0.393627 -1.682663  0.844865 -0.962597\n",
      "2018-07-24 -0.724063  0.403086 -0.054093  0.680831\n",
      "2018-07-25  0.663759  0.515005  0.386982  1.290267\n",
      "2018-07-26  1.261147 -0.075909  0.332821  0.132250\n",
      "2018-07-27  0.231117  0.752072  0.694438 -0.528140\n",
      "2018-07-28 -0.267725  0.920049 -0.751937 -0.094020\n",
      "   0  1   2   3\n",
      "0  0  1   2   3\n",
      "1  4  5   6   7\n",
      "2  8  9  10  11\n",
      "   A    B  C\n",
      "0  1  1.0  0\n",
      "1  2  3.0  1\n",
      "2  3  NaN  2\n"
     ]
    }
   ],
   "source": [
    "df = pd.DataFrame(np.random.randn(6,4),index=dates,columns=['a','b','c','d'])\n",
    "#       二维矩阵        随机生成          行索引      列索引\n",
    "print(df)\n",
    "\n",
    "#DataFrame 的矩阵 可以用dict生成,也可以用np导入:\n",
    "\n",
    "df1 = pd.DataFrame(np.arange(12).reshape((3,4)))#不带索引参数时  默认数字索引\n",
    "print(df1)\n",
    "\n",
    "df2 = pd.DataFrame({'A':[1,2,3],'B':pd.Series([1,3,np.nan]),'C':np.arange(3)})  #A,B,C对应一列\n",
    "print(df2)\n",
    "\n"
   ]
  },
  {
   "cell_type": "code",
   "execution_count": 7,
   "metadata": {},
   "outputs": [
    {
     "name": "stdout",
     "output_type": "stream",
     "text": [
      "RangeIndex(start=0, stop=3, step=1)\n",
      "Index(['A', 'B', 'C'], dtype='object')\n",
      "[[  1.   1.   0.]\n",
      " [  2.   3.   1.]\n",
      " [  3.  nan   2.]]\n",
      "         A         B    C\n",
      "count  3.0  2.000000  3.0\n",
      "mean   2.0  2.000000  1.0\n",
      "std    1.0  1.414214  1.0\n",
      "min    1.0  1.000000  0.0\n",
      "25%    1.5  1.500000  0.5\n",
      "50%    2.0  2.000000  1.0\n",
      "75%    2.5  2.500000  1.5\n",
      "max    3.0  3.000000  2.0\n",
      "   A    B  C\n",
      "2  3  NaN  2\n",
      "1  2  3.0  1\n",
      "0  1  1.0  0\n",
      "   A    B  C\n",
      "0  1  1.0  0\n",
      "1  2  3.0  1\n",
      "2  3  NaN  2\n"
     ]
    }
   ],
   "source": [
    "print(df2.index)  #行名字\n",
    "print(df2.columns)  #列名字\n",
    "print(df2.values)   #矩阵内容\n",
    "print(df2.describe()) #describe()  数学运算描述\n",
    "# print(df2.T)   #矩阵转置\n",
    "print(df2.sort_index(axis=0,ascending=False))  #axis = 1 对横坐标索引进行排序,反序\n",
    "print(df2.sort_values(by='A'))  #对某索引进行排序\n"
   ]
  },
  {
   "cell_type": "markdown",
   "metadata": {},
   "source": [
    "# 选择数据"
   ]
  },
  {
   "cell_type": "code",
   "execution_count": 9,
   "metadata": {},
   "outputs": [
    {
     "name": "stdout",
     "output_type": "stream",
     "text": [
      "             A   B   C   D\n",
      "2018-07-24   0   1   2   3\n",
      "2018-07-25   4   5   6   7\n",
      "2018-07-26   8   9  10  11\n",
      "2018-07-27  12  13  14  15\n",
      "2018-07-28  16  17  18  19\n",
      "2018-07-29  20  21  22  23\n"
     ]
    }
   ],
   "source": [
    "import numpy as np\n",
    "import pandas as pd\n",
    "\n",
    "dates = pd.date_range('20180724',periods=6)\n",
    "df = pd.DataFrame(np.arange(24).reshape(6,4),index=dates,columns=['A','B','C','D'])\n",
    "\n",
    "print(df)\n"
   ]
  },
  {
   "cell_type": "code",
   "execution_count": 10,
   "metadata": {},
   "outputs": [
    {
     "name": "stdout",
     "output_type": "stream",
     "text": [
      "2018-07-24     0\n",
      "2018-07-25     4\n",
      "2018-07-26     8\n",
      "2018-07-27    12\n",
      "2018-07-28    16\n",
      "2018-07-29    20\n",
      "Freq: D, Name: A, dtype: int32 2018-07-24     0\n",
      "2018-07-25     4\n",
      "2018-07-26     8\n",
      "2018-07-27    12\n",
      "2018-07-28    16\n",
      "2018-07-29    20\n",
      "Freq: D, Name: A, dtype: int32\n",
      "            A  B   C   D\n",
      "2018-07-24  0  1   2   3\n",
      "2018-07-25  4  5   6   7\n",
      "2018-07-26  8  9  10  11             A  B   C   D\n",
      "2018-07-24  0  1   2   3\n",
      "2018-07-25  4  5   6   7\n",
      "2018-07-26  8  9  10  11\n"
     ]
    }
   ],
   "source": [
    "#开始选择\n",
    "print(df['A'],df.A)  #选择某序列\n",
    "print(df[0:3],df['20180724':'20180726'])  #切片选择0:3行的数据  #切片选择序列()的数据"
   ]
  },
  {
   "cell_type": "code",
   "execution_count": 12,
   "metadata": {},
   "outputs": [
    {
     "name": "stdout",
     "output_type": "stream",
     "text": [
      "A    0\n",
      "B    1\n",
      "C    2\n",
      "D    3\n",
      "Name: 2018-07-24 00:00:00, dtype: int32\n",
      "A    0\n",
      "B    1\n",
      "Name: 2018-07-24 00:00:00, dtype: int32\n"
     ]
    }
   ],
   "source": [
    "#select by label:                                    loc [ ] 纯标签筛选\n",
    "print(df.loc['20180724'])   #使用loc后缀更具体的选取\n",
    "print(df.loc['20180724',['A','B']])  #选择具体的数据"
   ]
  },
  {
   "cell_type": "code",
   "execution_count": 18,
   "metadata": {},
   "outputs": [
    {
     "name": "stdout",
     "output_type": "stream",
     "text": [
      "             B   C\n",
      "2018-07-25   5   6\n",
      "2018-07-27  13  14\n",
      "2018-07-29  21  22\n"
     ]
    }
   ],
   "source": [
    "#selec by position:                                  iloc[ ]纯序列筛选   \n",
    "print(df.iloc[[1,3,5],1:3])  #使用数字序号索引筛选\n"
   ]
  },
  {
   "cell_type": "code",
   "execution_count": 22,
   "metadata": {},
   "outputs": [
    {
     "name": "stdout",
     "output_type": "stream",
     "text": [
      "            A   C\n",
      "2018-07-24  0   2\n",
      "2018-07-25  4   6\n",
      "2018-07-26  8  10\n"
     ]
    }
   ],
   "source": [
    "# mixed selection:                                    ix  [ ]   混合筛选\n",
    "print(df.ix[:3,['A','C']])"
   ]
  },
  {
   "cell_type": "code",
   "execution_count": 16,
   "metadata": {},
   "outputs": [
    {
     "name": "stdout",
     "output_type": "stream",
     "text": [
      "             A   B   C   D\n",
      "2018-07-27  12  13  14  15\n",
      "2018-07-28  16  17  18  19\n",
      "2018-07-29  20  21  22  23\n"
     ]
    }
   ],
   "source": [
    "#Boolean indexing:                                   布尔值筛选\n",
    "print(df[df.A>8])  #在A中对比,大于8的数据"
   ]
  },
  {
   "cell_type": "markdown",
   "metadata": {},
   "source": [
    "# 设置数据"
   ]
  },
  {
   "cell_type": "code",
   "execution_count": null,
   "metadata": {
    "collapsed": true
   },
   "outputs": [],
   "source": [
    "import numpy as np\n",
    "import pandas as pd\n",
    "\n",
    "dates = pd.date_range('20180724',periods=6)\n",
    "df = pd.DataFrame(np.arange(24).reshape(6,4),index=dates,columns=['A','B','C','D'])\n",
    "\n",
    "print(df)\n",
    "\n",
    "# df.iloc[0,1] = 111\n",
    "# df.loc['20180724','C'] = 222                        #使用loc可以用索引定位\n",
    "\n",
    "# df[df.A>4] = 0      #改变df\n",
    "# df.A[df.A>4] = 1  #改变A列\n",
    "\n",
    "# df['F'] = np.nan    #增加一列F\n",
    "df['F'] = pd.Series([1,2,3,4,5,6],index=pd.date_range('20180724',periods=6))  #对应的添加一列数据\n",
    "# print(df)\n",
    "df\n"
   ]
  },
  {
   "cell_type": "markdown",
   "metadata": {},
   "source": [
    "# 处理丢失值"
   ]
  },
  {
   "cell_type": "code",
   "execution_count": 28,
   "metadata": {},
   "outputs": [
    {
     "name": "stdout",
     "output_type": "stream",
     "text": [
      "             A     B     C   D\n",
      "2018-07-24   0   NaN   2.0   3\n",
      "2018-07-25   4   5.0   NaN   7\n",
      "2018-07-26   8   9.0  10.0  11\n",
      "2018-07-27  12  13.0  14.0  15\n",
      "2018-07-28  16  17.0  18.0  19\n",
      "2018-07-29  20  21.0  22.0  23\n",
      "             A     B     C   D\n",
      "2018-07-26   8   9.0  10.0  11\n",
      "2018-07-27  12  13.0  14.0  15\n",
      "2018-07-28  16  17.0  18.0  19\n",
      "2018-07-29  20  21.0  22.0  23\n",
      "             A     B     C   D\n",
      "2018-07-24   0   0.0   2.0   3\n",
      "2018-07-25   4   5.0   0.0   7\n",
      "2018-07-26   8   9.0  10.0  11\n",
      "2018-07-27  12  13.0  14.0  15\n",
      "2018-07-28  16  17.0  18.0  19\n",
      "2018-07-29  20  21.0  22.0  23\n",
      "                A      B      C      D\n",
      "2018-07-24  False   True  False  False\n",
      "2018-07-25  False  False   True  False\n",
      "2018-07-26  False  False  False  False\n",
      "2018-07-27  False  False  False  False\n",
      "2018-07-28  False  False  False  False\n",
      "2018-07-29  False  False  False  False\n",
      "True\n"
     ]
    }
   ],
   "source": [
    "import numpy as np\n",
    "import pandas as pd\n",
    "\n",
    "dates = pd.date_range('20180724',periods=6)\n",
    "df = pd.DataFrame(np.arange(24).reshape(6,4),index=dates,columns=['A','B','C','D'])\n",
    "\n",
    "df.iloc[0,1] = np.nan   #假设丢失数据\n",
    "df.iloc[1,2] = np.nan\n",
    "\n",
    "#打印创造的矩阵: \n",
    "print(df)\n",
    "\n",
    "print(df.dropna(axis=0,how='any'))      #丢掉有丢失数据的行/列    how='all'全部错误才丢掉\n",
    "\n",
    "print(df.fillna(value = 0))             #填入丢失的数据 为0\n",
    "\n",
    "print(df.isnull())                     #返回是否丢失数据的矩阵\n",
    "print(np.any(df.isnull()) == True)     #返回是否丢失数据\n"
   ]
  },
  {
   "cell_type": "markdown",
   "metadata": {},
   "source": [
    "# 导入导出"
   ]
  },
  {
   "cell_type": "code",
   "execution_count": 30,
   "metadata": {},
   "outputs": [
    {
     "name": "stdout",
     "output_type": "stream",
     "text": [
      "   2018年春季学期旷课统计 Unnamed: 1  Unnamed: 2 Unnamed: 3\n",
      "0             班级         姓名          学号     第3周旷课数\n",
      "1         计科本171        谢智鑫  1704405102          0\n",
      "2         计科本171        黄映兰  1704405103          0\n",
      "3         计科本171        韩旭昕  1704405104          0\n",
      "4         计科本171        黄春燕  1704405105          0\n",
      "5         计科本171        张诗圆  1704405106          0\n",
      "6         计科本171        梁雅丽  1704405107          0\n",
      "7         计科本171        黄家濠  1704405108          0\n",
      "8         计科本171         罗强  1704405109          0\n",
      "9         计科本171        陈庆浪  1704405110          0\n",
      "10        计科本171        谭雯宇  1704405111          0\n",
      "11        计科本171        李秋枫  1704405112          0\n",
      "12        计科本171        张伟鹏  1704405113          0\n",
      "13        计科本171        杨福娟  1704405114          0\n",
      "14        计科本171        陈韵春  1704405115          0\n",
      "15        计科本171         刘梅  1704405116          0\n",
      "16        计科本171         黄真  1704405117          1\n",
      "17        计科本171        黎洪向  1704405118          0\n",
      "18        计科本171        洪宏声  1704405119          0\n",
      "19        计科本171        李发有  1704405120          0\n",
      "20        计科本171        李瑞周  1704405121          0\n",
      "21        计科本171        兰盛盛  1704405122          0\n",
      "22        计科本171        何相枝  1704405123          0\n",
      "23        计科本171        莫海霞  1704405124          0\n",
      "24        计科本171         李丽  1704405125          0\n",
      "25        计科本171        黄娟华  1704405126          0\n",
      "26        计科本171        麻赐庆  1704405128          0\n",
      "27        计科本171        周海强  1704405129          0\n",
      "28        计科本171        聂诚成  1704405131          1\n",
      "29        计科本171        韩一兵  1704405132          0\n",
      "30        计科本171         芦祺  1704405133          0\n",
      "31        计科本171        刘振宇  1704405134          0\n",
      "32        计科本171        先友全  1704405135          0\n",
      "33        计科本171        熊墨泽  1704405136          0\n",
      "34        计科本171        刘钊洪  1704405137          0\n",
      "35        计科本171        路玲静  1704405138          0\n",
      "36        计科本171        农漓漓  1704405139          0\n",
      "37        计科本171        陈红桔  1704405140          1\n",
      "38        计科本171        蒲晓艳  1704405141          0\n",
      "39        计科本171        庞章南  1704405142          0\n"
     ]
    }
   ],
   "source": [
    "import pandas as pd\n",
    "\n",
    "data = pd.read_excel(r'E:\\办公\\班级信息\\计科本171旷课统计.xlsx')\n",
    "\n",
    "print(data)\n",
    "\n",
    "#data.to_csv(r'C:\\Users\\Administrator\\Desktop\\下载\\1.csv')"
   ]
  },
  {
   "cell_type": "markdown",
   "metadata": {},
   "source": [
    "# 合并concat"
   ]
  },
  {
   "cell_type": "code",
   "execution_count": null,
   "metadata": {
    "collapsed": true
   },
   "outputs": [],
   "source": [
    "# import numpy as np\n",
    "import pandas as pd\n",
    "\n",
    "\n",
    "# #第一个例子 (横坐标相同)\n",
    "# df1 = pd.DataFrame(np.zeros((3,4)),columns=['a','b','c','d'])\n",
    "# df2 = pd.DataFrame(np.ones((3,4)),columns=['a','b','c','d'])\n",
    "# df3 = pd.DataFrame(np.ones((3,4))*2,columns=['a','b','c','d'])\n",
    "# print(df1)\n",
    "# print(df2)\n",
    "# print(df3)\n",
    "\n",
    "# #上下合并\n",
    "# res = pd.concat([df1,df2,df3],axis=0,ignore_index=True)  #忽略index纵坐标,重新排序\n",
    "# print(res)\n",
    "\n",
    "\n",
    "#第二个例子  (横纵坐标都不同)\n",
    "df1 = pd.DataFrame(np.zeros((3,4)),columns=['a','b','c','d'],index=[1,2,3])\n",
    "df2 = pd.DataFrame(np.ones((3,4)),columns=['b','c','d','e'],index=[2,3,4])\n",
    "print(df1)\n",
    "print(df2)\n",
    "# res = pd.concat([df1,df2],join='inner',ignore_index=True)  #join默认使用outer模式,求并集,不存在的用nan填充  inner,求交集\n",
    "res = pd.concat([df1,df2],axis=1,join_axes=[df1.index])   #join_axes 选择需要处理的行index\n",
    "res\n",
    "\n",
    "\n",
    "#第三个例子:  append添加到末尾\n",
    "# df1 = pd.DataFrame(np.zeros((3,4)),columns=['a','b','c','d'])\n",
    "# df2 = pd.DataFrame(np.ones((3,4)),columns=['a','b','c','d'])\n",
    "# df3 = pd.DataFrame(np.ones((3,4)),columns=['a','b','c','d'])\n",
    "\n",
    "# # res = df1.append([df2,df3],ignore_index=True)  #全部加起来\n",
    "# s1 = pd.Series([1,2,3,4],index=['a','b','c','d'])\n",
    "# res = df1.append(s1,ignore_index=True)\n",
    "# print(res)"
   ]
  },
  {
   "cell_type": "markdown",
   "metadata": {},
   "source": [
    "# 合并merge\n"
   ]
  },
  {
   "cell_type": "code",
   "execution_count": 34,
   "metadata": {},
   "outputs": [
    {
     "name": "stdout",
     "output_type": "stream",
     "text": [
      "   age   k\n",
      "0    1  K0\n",
      "1    2  K1\n",
      "2    3  K2\n",
      "   age   k\n",
      "0    4  K0\n",
      "1    5  K0\n",
      "2    6  K3\n",
      "   age_boys   k  age_girls\n",
      "0         1  K0          4\n",
      "1         1  K0          5\n"
     ]
    }
   ],
   "source": [
    "import numpy as np\n",
    "import pandas as pd\n",
    "\n",
    "\n",
    "#依据一组key合并:\n",
    "# left = pd.DataFrame({'key': ['K0', 'K1', 'K2', 'K3'],\n",
    "#                       'A': ['A0', 'A1', 'A2', 'A3'],\n",
    "#                       'B': ['B0', 'B1', 'B2', 'B3']})\n",
    "\n",
    "# right = pd.DataFrame({'key': ['K0', 'K1', 'K2', 'K3'],\n",
    "#                        'C': ['C0', 'C1', 'C2', 'C3'],\n",
    "#                        'D': ['D0', 'D1', 'D2', 'D3']})\n",
    "\n",
    "# print(left)\n",
    "# print(right)\n",
    "# res =  pd.merge(left,right,on='key')\n",
    "# print(res)\n",
    "\n",
    "\n",
    "#依据两组key合并 :\n",
    "# left = pd.DataFrame({'key1': ['K0', 'K0', 'K1', 'K2'],\n",
    "#                       'key2': ['K0', 'K1', 'K0', 'K1'],\n",
    "#                       'A': ['A0', 'A1', 'A2', 'A3'],\n",
    "#                       'B': ['B0', 'B1', 'B2', 'B3']})\n",
    "\n",
    "# right = pd.DataFrame({'key1': ['K0', 'K1', 'K1', 'K2'],\n",
    "#                        'key2': ['K0', 'K0', 'K0', 'K0'],\n",
    "#                        'C': ['C0', 'C1', 'C2', 'C3'],\n",
    "#                        'D': ['D0', 'D1', 'D2', 'D3']})\n",
    "\n",
    "# print(left)\n",
    "# print(right)\n",
    "# # how = {'left','right','outer','inner'}  #left基于第一个的key对ab进行填充,right第二个.默认inner,outer取补集\n",
    "# res = pd.merge(left,right,on=['key1','key2'])                     #key1，key2相同的交集合并\n",
    "# res1 = pd.merge(left,right,on=['key1','key2'],how='outer')        #key1，key2相同的并集合并\n",
    "# print(res)\n",
    "# print(res1)\n",
    "\n",
    "\n",
    "\n",
    "#  Indicator 显示合并的情况\n",
    "\n",
    "# df1 = pd.DataFrame({'col1':[0,1], 'col_left':['a','b']})\n",
    "# df2 = pd.DataFrame({'col1':[1,2,2],'col_right':[2,2,2]})\n",
    "\n",
    "# print(df1)\n",
    "# print(df2)\n",
    "# res = pd.merge(df1,df2,on='col1',how='outer',indicator=True)  #indicaor 显示合并情况\n",
    "# print(res)\n",
    "\n",
    "\n",
    "# 依据index合并\n",
    "# left = pd.DataFrame({'A': ['A0', 'A1', 'A2'],\n",
    "#                      'B': ['B0', 'B1', 'B2']},\n",
    "#                     index=['K0', 'K1', 'K2'])\n",
    "\n",
    "# right = pd.DataFrame({'C': ['C0', 'C2', 'C3'],\n",
    "#                       'D': ['D0', 'D2', 'D3']},\n",
    "#                      index=['K0', 'K2', 'K3'])\n",
    "\n",
    "# print(left)\n",
    "# print(right)\n",
    "# res = pd.merge(left,right,left_index=True,right_index=True,how='outer')  #根据left/right的index来作为key进行合并，而不是默认的columns\n",
    "# print(res)\n",
    "\n",
    "\n",
    "\n",
    "# #解决over lapping的问题\n",
    "boys = pd.DataFrame({'k': ['K0', 'K1', 'K2'], 'age': [1, 2, 3]})\n",
    "girls = pd.DataFrame({'k': ['K0', 'K0', 'K3'], 'age': [4, 5, 6]})\n",
    "print(boys)\n",
    "print(girls)\n",
    "res = pd.merge(boys,girls,on='k',suffixes=['_boys','_girls'])  #用suffixs,添加后缀 区别key相同，但相同值不同意义的数据\n",
    "print(res)"
   ]
  },
  {
   "cell_type": "markdown",
   "metadata": {},
   "source": [
    "# 可视化"
   ]
  },
  {
   "cell_type": "code",
   "execution_count": 35,
   "metadata": {},
   "outputs": [
    {
     "data": {
      "image/png": "[encoded data removed]",
      "text/plain": [
       "<matplotlib.figure.Figure at 0x1cb5aac6550>"
      ]
     },
     "metadata": {},
     "output_type": "display_data"
    }
   ],
   "source": [
    "import pandas as  pd\n",
    "import numpy as np\n",
    "import matplotlib.pyplot as plt\n",
    "\n",
    "#Series\n",
    "# data = pd.Series(np.random.randn(1000))\n",
    "# data = data.cumsum()\n",
    "\n",
    "#DataFrame\n",
    "data = pd.DataFrame(np.random.randn(1000,4),index=np.arange(1000),columns=list(\"ABCD\"))\n",
    "data = data.cumsum()\n",
    "# print(data.head(5))   #输出矩阵前5个数据\n",
    "\n",
    "# data.plot()\n",
    "# plt.show()\n",
    "\n",
    "#plot method\n",
    "# 'bar':条形图，'hist','box'......\n",
    "\n",
    "#散点图：\n",
    "ax =data.plot.scatter(x='A',y='B',color='DarkBlue',label='Class')\n",
    "data.plot.scatter(x='A',y='C',color='DarkGreen',label='Class2',ax=ax)\n",
    "plt.show()"
   ]
  },
  {
   "cell_type": "code",
   "execution_count": null,
   "metadata": {
    "collapsed": true
   },
   "outputs": [],
   "source": []
  }
 ],
 "metadata": {
  "kernelspec": {
   "display_name": "Python 3",
   "language": "python",
   "name": "python3"
  },
  "language_info": {
   "codemirror_mode": {
    "name": "ipython",
    "version": 3
   },
   "file_extension": ".py",
   "mimetype": "text/x-python",
   "name": "python",
   "nbconvert_exporter": "python",
   "pygments_lexer": "ipython3",
   "version": "3.6.3"
  }
 },
 "nbformat": 4,
 "nbformat_minor": 2
}
