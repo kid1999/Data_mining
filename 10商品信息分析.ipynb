{
 "cells": [
  {
   "cell_type": "markdown",
   "metadata": {},
   "source": [
    "## 导入用户购买信息"
   ]
  },
  {
   "cell_type": "code",
   "execution_count": 2,
   "metadata": {
    "collapsed": true
   },
   "outputs": [],
   "source": [
    "import pandas as pd\n",
    "df = pd.read_excel('商品购买记录.xlsx')\n",
    "df.columns = ['时间','动作','用户名','产品','数量','单价']"
   ]
  },
  {
   "cell_type": "code",
   "execution_count": 3,
   "metadata": {},
   "outputs": [
    {
     "data": {
      "text/html": [
       "<div>\n",
       "<style scoped>\n",
       "    .dataframe tbody tr th:only-of-type {\n",
       "        vertical-align: middle;\n",
       "    }\n",
       "\n",
       "    .dataframe tbody tr th {\n",
       "        vertical-align: top;\n",
       "    }\n",
       "\n",
       "    .dataframe thead th {\n",
       "        text-align: right;\n",
       "    }\n",
       "</style>\n",
       "<table border=\"1\" class=\"dataframe\">\n",
       "  <thead>\n",
       "    <tr style=\"text-align: right;\">\n",
       "      <th></th>\n",
       "      <th>时间</th>\n",
       "      <th>动作</th>\n",
       "      <th>用户名</th>\n",
       "      <th>产品</th>\n",
       "      <th>数量</th>\n",
       "      <th>单价</th>\n",
       "    </tr>\n",
       "  </thead>\n",
       "  <tbody>\n",
       "    <tr>\n",
       "      <th>0</th>\n",
       "      <td>2015-07-01 00:00:03</td>\n",
       "      <td>order</td>\n",
       "      <td>U239012343</td>\n",
       "      <td>P0006018073</td>\n",
       "      <td>1</td>\n",
       "      <td>1680.0</td>\n",
       "    </tr>\n",
       "    <tr>\n",
       "      <th>1</th>\n",
       "      <td>2015-07-01 00:00:19</td>\n",
       "      <td>order</td>\n",
       "      <td>U10007697373</td>\n",
       "      <td>P0002267974</td>\n",
       "      <td>1</td>\n",
       "      <td>285.0</td>\n",
       "    </tr>\n",
       "    <tr>\n",
       "      <th>2</th>\n",
       "      <td>2015-07-01 00:01:10</td>\n",
       "      <td>order</td>\n",
       "      <td>U296328517</td>\n",
       "      <td>P0016144236</td>\n",
       "      <td>1</td>\n",
       "      <td>550.0</td>\n",
       "    </tr>\n",
       "    <tr>\n",
       "      <th>3</th>\n",
       "      <td>2015-07-01 00:01:36</td>\n",
       "      <td>order</td>\n",
       "      <td>U300884570</td>\n",
       "      <td>P0014516980122</td>\n",
       "      <td>1</td>\n",
       "      <td>249.0</td>\n",
       "    </tr>\n",
       "    <tr>\n",
       "      <th>4</th>\n",
       "      <td>2015-07-01 00:01:48</td>\n",
       "      <td>order</td>\n",
       "      <td>U451050374</td>\n",
       "      <td>P0004134266</td>\n",
       "      <td>1</td>\n",
       "      <td>1780.0</td>\n",
       "    </tr>\n",
       "  </tbody>\n",
       "</table>\n",
       "</div>"
      ],
      "text/plain": [
       "                   时间     动作           用户名              产品  数量      单价\n",
       "0 2015-07-01 00:00:03  order    U239012343     P0006018073   1  1680.0\n",
       "1 2015-07-01 00:00:19  order  U10007697373     P0002267974   1   285.0\n",
       "2 2015-07-01 00:01:10  order    U296328517     P0016144236   1   550.0\n",
       "3 2015-07-01 00:01:36  order    U300884570  P0014516980122   1   249.0\n",
       "4 2015-07-01 00:01:48  order    U451050374     P0004134266   1  1780.0"
      ]
     },
     "execution_count": 3,
     "metadata": {},
     "output_type": "execute_result"
    }
   ],
   "source": [
    "df.head()"
   ]
  },
  {
   "cell_type": "code",
   "execution_count": 4,
   "metadata": {},
   "outputs": [
    {
     "name": "stdout",
     "output_type": "stream",
     "text": [
      "<class 'pandas.core.frame.DataFrame'>\n",
      "RangeIndex: 54771 entries, 0 to 54770\n",
      "Data columns (total 6 columns):\n",
      "时间     54771 non-null datetime64[ns]\n",
      "动作     54771 non-null object\n",
      "用户名    54771 non-null object\n",
      "产品     54771 non-null object\n",
      "数量     54771 non-null int64\n",
      "单价     54720 non-null float64\n",
      "dtypes: datetime64[ns](1), float64(1), int64(1), object(3)\n",
      "memory usage: 2.5+ MB\n"
     ]
    }
   ],
   "source": [
    "df.info()"
   ]
  },
  {
   "cell_type": "code",
   "execution_count": null,
   "metadata": {
    "collapsed": true
   },
   "outputs": [],
   "source": [
    " ### 搜索用户的购买记录"
   ]
  },
  {
   "cell_type": "code",
   "execution_count": 5,
   "metadata": {},
   "outputs": [
    {
     "data": {
      "text/plain": [
       "0       P0006018073\n",
       "1       P0002267974\n",
       "2       P0016144236\n",
       "3    P0014516980122\n",
       "4       P0004134266\n",
       "Name: 产品, dtype: object"
      ]
     },
     "execution_count": 5,
     "metadata": {},
     "output_type": "execute_result"
    }
   ],
   "source": [
    "df['产品'].head()"
   ]
  },
  {
   "cell_type": "code",
   "execution_count": 6,
   "metadata": {},
   "outputs": [
    {
     "data": {
      "text/plain": [
       "count     313.000000\n",
       "mean     1828.274760\n",
       "std        92.241815\n",
       "min      1780.000000\n",
       "25%      1780.000000\n",
       "50%      1780.000000\n",
       "75%      1780.000000\n",
       "max      2490.000000\n",
       "Name: 单价, dtype: float64"
      ]
     },
     "execution_count": 6,
     "metadata": {},
     "output_type": "execute_result"
    }
   ],
   "source": [
    "df[df['产品'] ==  'P0004134266']['单价'].mean()\n",
    "df[df['产品'] ==  'P0004134266']['单价'].describe()"
   ]
  },
  {
   "cell_type": "code",
   "execution_count": 7,
   "metadata": {},
   "outputs": [
    {
     "data": {
      "text/plain": [
       "20054"
      ]
     },
     "execution_count": 7,
     "metadata": {},
     "output_type": "execute_result"
    }
   ],
   "source": [
    "len(df['产品'].unique())   #统计商品种类数量"
   ]
  },
  {
   "cell_type": "markdown",
   "metadata": {},
   "source": [
    "### 使用类sql语句 大范围处理数据"
   ]
  },
  {
   "cell_type": "markdown",
   "metadata": {},
   "source": [
    " 每个商品的平均价"
   ]
  },
  {
   "cell_type": "code",
   "execution_count": 8,
   "metadata": {},
   "outputs": [
    {
     "data": {
      "text/plain": [
       "产品\n",
       "P0000005913       1590.0\n",
       "P0000006020       1290.0\n",
       "P0000006591        999.0\n",
       "P0000007744       3280.0\n",
       "P0000008190011    5083.0\n",
       "Name: 单价, dtype: float64"
      ]
     },
     "execution_count": 8,
     "metadata": {},
     "output_type": "execute_result"
    }
   ],
   "source": [
    "df.groupby('产品')['单价'].mean().head()   #每个商品的平均价"
   ]
  },
  {
   "cell_type": "markdown",
   "metadata": {},
   "source": [
    "平均价排序"
   ]
  },
  {
   "cell_type": "code",
   "execution_count": 9,
   "metadata": {},
   "outputs": [
    {
     "data": {
      "text/plain": [
       "产品\n",
       "P0000143511    438888.0\n",
       "P0000143500    438888.0\n",
       "P0006584093    320000.0\n",
       "P0025280275    183900.0\n",
       "P0000150006    111375.0\n",
       "Name: 单价, dtype: float64"
      ]
     },
     "execution_count": 9,
     "metadata": {},
     "output_type": "execute_result"
    }
   ],
   "source": [
    "df.groupby('产品')['单价'].mean().sort_values(ascending=False).head()   #平均价排序"
   ]
  },
  {
   "cell_type": "markdown",
   "metadata": {},
   "source": [
    "得到单笔购买总价"
   ]
  },
  {
   "cell_type": "code",
   "execution_count": 10,
   "metadata": {
    "collapsed": true
   },
   "outputs": [],
   "source": [
    "df['总价'] = df['数量'] * df['单价']"
   ]
  },
  {
   "cell_type": "code",
   "execution_count": 11,
   "metadata": {},
   "outputs": [
    {
     "data": {
      "text/html": [
       "<div>\n",
       "<style scoped>\n",
       "    .dataframe tbody tr th:only-of-type {\n",
       "        vertical-align: middle;\n",
       "    }\n",
       "\n",
       "    .dataframe tbody tr th {\n",
       "        vertical-align: top;\n",
       "    }\n",
       "\n",
       "    .dataframe thead th {\n",
       "        text-align: right;\n",
       "    }\n",
       "</style>\n",
       "<table border=\"1\" class=\"dataframe\">\n",
       "  <thead>\n",
       "    <tr style=\"text-align: right;\">\n",
       "      <th></th>\n",
       "      <th>时间</th>\n",
       "      <th>动作</th>\n",
       "      <th>用户名</th>\n",
       "      <th>产品</th>\n",
       "      <th>数量</th>\n",
       "      <th>单价</th>\n",
       "      <th>总价</th>\n",
       "    </tr>\n",
       "  </thead>\n",
       "  <tbody>\n",
       "    <tr>\n",
       "      <th>0</th>\n",
       "      <td>2015-07-01 00:00:03</td>\n",
       "      <td>order</td>\n",
       "      <td>U239012343</td>\n",
       "      <td>P0006018073</td>\n",
       "      <td>1</td>\n",
       "      <td>1680.0</td>\n",
       "      <td>1680.0</td>\n",
       "    </tr>\n",
       "    <tr>\n",
       "      <th>1</th>\n",
       "      <td>2015-07-01 00:00:19</td>\n",
       "      <td>order</td>\n",
       "      <td>U10007697373</td>\n",
       "      <td>P0002267974</td>\n",
       "      <td>1</td>\n",
       "      <td>285.0</td>\n",
       "      <td>285.0</td>\n",
       "    </tr>\n",
       "    <tr>\n",
       "      <th>2</th>\n",
       "      <td>2015-07-01 00:01:10</td>\n",
       "      <td>order</td>\n",
       "      <td>U296328517</td>\n",
       "      <td>P0016144236</td>\n",
       "      <td>1</td>\n",
       "      <td>550.0</td>\n",
       "      <td>550.0</td>\n",
       "    </tr>\n",
       "    <tr>\n",
       "      <th>3</th>\n",
       "      <td>2015-07-01 00:01:36</td>\n",
       "      <td>order</td>\n",
       "      <td>U300884570</td>\n",
       "      <td>P0014516980122</td>\n",
       "      <td>1</td>\n",
       "      <td>249.0</td>\n",
       "      <td>249.0</td>\n",
       "    </tr>\n",
       "    <tr>\n",
       "      <th>4</th>\n",
       "      <td>2015-07-01 00:01:48</td>\n",
       "      <td>order</td>\n",
       "      <td>U451050374</td>\n",
       "      <td>P0004134266</td>\n",
       "      <td>1</td>\n",
       "      <td>1780.0</td>\n",
       "      <td>1780.0</td>\n",
       "    </tr>\n",
       "  </tbody>\n",
       "</table>\n",
       "</div>"
      ],
      "text/plain": [
       "                   时间     动作           用户名              产品  数量      单价      总价\n",
       "0 2015-07-01 00:00:03  order    U239012343     P0006018073   1  1680.0  1680.0\n",
       "1 2015-07-01 00:00:19  order  U10007697373     P0002267974   1   285.0   285.0\n",
       "2 2015-07-01 00:01:10  order    U296328517     P0016144236   1   550.0   550.0\n",
       "3 2015-07-01 00:01:36  order    U300884570  P0014516980122   1   249.0   249.0\n",
       "4 2015-07-01 00:01:48  order    U451050374     P0004134266   1  1780.0  1780.0"
      ]
     },
     "execution_count": 11,
     "metadata": {},
     "output_type": "execute_result"
    }
   ],
   "source": [
    "df.head()"
   ]
  },
  {
   "cell_type": "markdown",
   "metadata": {},
   "source": [
    "每个用户购买的记录"
   ]
  },
  {
   "cell_type": "code",
   "execution_count": 12,
   "metadata": {},
   "outputs": [
    {
     "data": {
      "text/plain": [
       "用户名           产品            \n",
       "U1000001354   P0014520085       1\n",
       "U10000044910  P0018800250       1\n",
       "U10000056953  P0003926850034    1\n",
       "              P0013344760004    2\n",
       "              P0013834251       1\n",
       "Name: 产品, dtype: int64"
      ]
     },
     "execution_count": 12,
     "metadata": {},
     "output_type": "execute_result"
    }
   ],
   "source": [
    "orders_cnt = df.groupby(['用户名','产品'])['产品'].count()\n",
    "orders_cnt.head()"
   ]
  },
  {
   "cell_type": "markdown",
   "metadata": {},
   "source": [
    "又变回pd格式"
   ]
  },
  {
   "cell_type": "code",
   "execution_count": 13,
   "metadata": {},
   "outputs": [
    {
     "data": {
      "text/html": [
       "<div>\n",
       "<style scoped>\n",
       "    .dataframe tbody tr th:only-of-type {\n",
       "        vertical-align: middle;\n",
       "    }\n",
       "\n",
       "    .dataframe tbody tr th {\n",
       "        vertical-align: top;\n",
       "    }\n",
       "\n",
       "    .dataframe thead th {\n",
       "        text-align: right;\n",
       "    }\n",
       "</style>\n",
       "<table border=\"1\" class=\"dataframe\">\n",
       "  <thead>\n",
       "    <tr style=\"text-align: right;\">\n",
       "      <th></th>\n",
       "      <th>用户名</th>\n",
       "      <th>产品</th>\n",
       "      <th>buys</th>\n",
       "    </tr>\n",
       "  </thead>\n",
       "  <tbody>\n",
       "    <tr>\n",
       "      <th>0</th>\n",
       "      <td>U1000001354</td>\n",
       "      <td>P0014520085</td>\n",
       "      <td>1</td>\n",
       "    </tr>\n",
       "    <tr>\n",
       "      <th>1</th>\n",
       "      <td>U10000044910</td>\n",
       "      <td>P0018800250</td>\n",
       "      <td>1</td>\n",
       "    </tr>\n",
       "    <tr>\n",
       "      <th>2</th>\n",
       "      <td>U10000056953</td>\n",
       "      <td>P0003926850034</td>\n",
       "      <td>1</td>\n",
       "    </tr>\n",
       "    <tr>\n",
       "      <th>3</th>\n",
       "      <td>U10000056953</td>\n",
       "      <td>P0013344760004</td>\n",
       "      <td>2</td>\n",
       "    </tr>\n",
       "    <tr>\n",
       "      <th>4</th>\n",
       "      <td>U10000056953</td>\n",
       "      <td>P0013834251</td>\n",
       "      <td>1</td>\n",
       "    </tr>\n",
       "  </tbody>\n",
       "</table>\n",
       "</div>"
      ],
      "text/plain": [
       "            用户名              产品  buys\n",
       "0   U1000001354     P0014520085     1\n",
       "1  U10000044910     P0018800250     1\n",
       "2  U10000056953  P0003926850034     1\n",
       "3  U10000056953  P0013344760004     2\n",
       "4  U10000056953     P0013834251     1"
      ]
     },
     "execution_count": 13,
     "metadata": {},
     "output_type": "execute_result"
    }
   ],
   "source": [
    "orders_cnt = df.groupby(['用户名','产品'])['产品'].count().reset_index(name='buys')\n",
    "orders_cnt.head()"
   ]
  },
  {
   "cell_type": "markdown",
   "metadata": {},
   "source": [
    "计算用户的花销情况 得到大用户名单"
   ]
  },
  {
   "cell_type": "code",
   "execution_count": 35,
   "metadata": {},
   "outputs": [
    {
     "name": "stdout",
     "output_type": "stream",
     "text": [
      "Populating the interactive namespace from numpy and matplotlib\n"
     ]
    },
    {
     "data": {
      "text/plain": [
       "<matplotlib.axes._subplots.AxesSubplot at 0x1ad0c916cf8>"
      ]
     },
     "execution_count": 35,
     "metadata": {},
     "output_type": "execute_result"
    },
    {
     "data": {
      "image/png": "[encoded data removed]",
      "text/plain": [
       "<Figure size 720x360 with 1 Axes>"
      ]
     },
     "metadata": {
      "needs_background": "light"
     },
     "output_type": "display_data"
    }
   ],
   "source": [
    "order_max = df.groupby('用户名')['总价'].sum().sort_values(ascending=False)\n",
    "order_max.head()\n",
    "%pylab inline\n",
    "g = order_max[:10]\n",
    "g.plot(kind='bar',figsize=[10,5])"
   ]
  },
  {
   "cell_type": "code",
   "execution_count": null,
   "metadata": {
    "collapsed": true
   },
   "outputs": [],
   "source": []
  },
  {
   "cell_type": "markdown",
   "metadata": {},
   "source": [
    "# 导入用户浏览信息"
   ]
  },
  {
   "cell_type": "code",
   "execution_count": 15,
   "metadata": {},
   "outputs": [
    {
     "data": {
      "text/html": [
       "<div>\n",
       "<style scoped>\n",
       "    .dataframe tbody tr th:only-of-type {\n",
       "        vertical-align: middle;\n",
       "    }\n",
       "\n",
       "    .dataframe tbody tr th {\n",
       "        vertical-align: top;\n",
       "    }\n",
       "\n",
       "    .dataframe thead th {\n",
       "        text-align: right;\n",
       "    }\n",
       "</style>\n",
       "<table border=\"1\" class=\"dataframe\">\n",
       "  <thead>\n",
       "    <tr style=\"text-align: right;\">\n",
       "      <th></th>\n",
       "      <th>2015-07-01 00:00:01</th>\n",
       "      <th>view</th>\n",
       "      <th>U129297265</th>\n",
       "      <th>P0023468384</th>\n",
       "    </tr>\n",
       "  </thead>\n",
       "  <tbody>\n",
       "    <tr>\n",
       "      <th>0</th>\n",
       "      <td>2015-07-01 00:00:03</td>\n",
       "      <td>view</td>\n",
       "      <td>U321001337</td>\n",
       "      <td>P0018926456</td>\n",
       "    </tr>\n",
       "    <tr>\n",
       "      <th>1</th>\n",
       "      <td>2015-07-01 00:00:05</td>\n",
       "      <td>view</td>\n",
       "      <td>U10070718237</td>\n",
       "      <td>P0000063593</td>\n",
       "    </tr>\n",
       "    <tr>\n",
       "      <th>2</th>\n",
       "      <td>2015-07-01 00:00:05</td>\n",
       "      <td>view</td>\n",
       "      <td>U393805241</td>\n",
       "      <td>P0005541535</td>\n",
       "    </tr>\n",
       "    <tr>\n",
       "      <th>3</th>\n",
       "      <td>2015-07-01 00:00:10</td>\n",
       "      <td>view</td>\n",
       "      <td>U10004621134</td>\n",
       "      <td>P0022135540</td>\n",
       "    </tr>\n",
       "    <tr>\n",
       "      <th>4</th>\n",
       "      <td>2015-07-01 00:00:11</td>\n",
       "      <td>view</td>\n",
       "      <td>U370110321</td>\n",
       "      <td>P0001249080</td>\n",
       "    </tr>\n",
       "  </tbody>\n",
       "</table>\n",
       "</div>"
      ],
      "text/plain": [
       "  2015-07-01 00:00:01  view    U129297265  P0023468384\n",
       "0 2015-07-01 00:00:03  view    U321001337  P0018926456\n",
       "1 2015-07-01 00:00:05  view  U10070718237  P0000063593\n",
       "2 2015-07-01 00:00:05  view    U393805241  P0005541535\n",
       "3 2015-07-01 00:00:10  view  U10004621134  P0022135540\n",
       "4 2015-07-01 00:00:11  view    U370110321  P0001249080"
      ]
     },
     "execution_count": 15,
     "metadata": {},
     "output_type": "execute_result"
    }
   ],
   "source": [
    "import pandas as pd\n",
    "view = pd.read_excel('商品浏览记录.xlsx')\n",
    "view.head()"
   ]
  },
  {
   "cell_type": "code",
   "execution_count": 16,
   "metadata": {},
   "outputs": [
    {
     "name": "stdout",
     "output_type": "stream",
     "text": [
      "<class 'pandas.core.frame.DataFrame'>\n",
      "RangeIndex: 1048575 entries, 0 to 1048574\n",
      "Data columns (total 4 columns):\n",
      "2015-07-01 00:00:01    1048575 non-null datetime64[ns]\n",
      "view                   1048575 non-null object\n",
      "U129297265             1048575 non-null object\n",
      "P0023468384            1048575 non-null object\n",
      "dtypes: datetime64[ns](1), object(3)\n",
      "memory usage: 32.0+ MB\n"
     ]
    }
   ],
   "source": [
    "view.info()"
   ]
  },
  {
   "cell_type": "code",
   "execution_count": 17,
   "metadata": {
    "collapsed": true
   },
   "outputs": [],
   "source": [
    "view.columns = ['时间','动作','用户名','产品']"
   ]
  },
  {
   "cell_type": "code",
   "execution_count": 18,
   "metadata": {},
   "outputs": [
    {
     "data": {
      "text/html": [
       "<div>\n",
       "<style scoped>\n",
       "    .dataframe tbody tr th:only-of-type {\n",
       "        vertical-align: middle;\n",
       "    }\n",
       "\n",
       "    .dataframe tbody tr th {\n",
       "        vertical-align: top;\n",
       "    }\n",
       "\n",
       "    .dataframe thead th {\n",
       "        text-align: right;\n",
       "    }\n",
       "</style>\n",
       "<table border=\"1\" class=\"dataframe\">\n",
       "  <thead>\n",
       "    <tr style=\"text-align: right;\">\n",
       "      <th></th>\n",
       "      <th>时间</th>\n",
       "      <th>动作</th>\n",
       "      <th>用户名</th>\n",
       "      <th>产品</th>\n",
       "    </tr>\n",
       "  </thead>\n",
       "  <tbody>\n",
       "    <tr>\n",
       "      <th>0</th>\n",
       "      <td>2015-07-01 00:00:03</td>\n",
       "      <td>view</td>\n",
       "      <td>U321001337</td>\n",
       "      <td>P0018926456</td>\n",
       "    </tr>\n",
       "    <tr>\n",
       "      <th>1</th>\n",
       "      <td>2015-07-01 00:00:05</td>\n",
       "      <td>view</td>\n",
       "      <td>U10070718237</td>\n",
       "      <td>P0000063593</td>\n",
       "    </tr>\n",
       "    <tr>\n",
       "      <th>2</th>\n",
       "      <td>2015-07-01 00:00:05</td>\n",
       "      <td>view</td>\n",
       "      <td>U393805241</td>\n",
       "      <td>P0005541535</td>\n",
       "    </tr>\n",
       "    <tr>\n",
       "      <th>3</th>\n",
       "      <td>2015-07-01 00:00:10</td>\n",
       "      <td>view</td>\n",
       "      <td>U10004621134</td>\n",
       "      <td>P0022135540</td>\n",
       "    </tr>\n",
       "    <tr>\n",
       "      <th>4</th>\n",
       "      <td>2015-07-01 00:00:11</td>\n",
       "      <td>view</td>\n",
       "      <td>U370110321</td>\n",
       "      <td>P0001249080</td>\n",
       "    </tr>\n",
       "  </tbody>\n",
       "</table>\n",
       "</div>"
      ],
      "text/plain": [
       "                   时间    动作           用户名           产品\n",
       "0 2015-07-01 00:00:03  view    U321001337  P0018926456\n",
       "1 2015-07-01 00:00:05  view  U10070718237  P0000063593\n",
       "2 2015-07-01 00:00:05  view    U393805241  P0005541535\n",
       "3 2015-07-01 00:00:10  view  U10004621134  P0022135540\n",
       "4 2015-07-01 00:00:11  view    U370110321  P0001249080"
      ]
     },
     "execution_count": 18,
     "metadata": {},
     "output_type": "execute_result"
    }
   ],
   "source": [
    "view.head()"
   ]
  },
  {
   "cell_type": "code",
   "execution_count": 19,
   "metadata": {},
   "outputs": [
    {
     "data": {
      "text/html": [
       "<div>\n",
       "<style scoped>\n",
       "    .dataframe tbody tr th:only-of-type {\n",
       "        vertical-align: middle;\n",
       "    }\n",
       "\n",
       "    .dataframe tbody tr th {\n",
       "        vertical-align: top;\n",
       "    }\n",
       "\n",
       "    .dataframe thead th {\n",
       "        text-align: right;\n",
       "    }\n",
       "</style>\n",
       "<table border=\"1\" class=\"dataframe\">\n",
       "  <thead>\n",
       "    <tr style=\"text-align: right;\">\n",
       "      <th></th>\n",
       "      <th>用户名</th>\n",
       "      <th>产品</th>\n",
       "      <th>views</th>\n",
       "    </tr>\n",
       "  </thead>\n",
       "  <tbody>\n",
       "    <tr>\n",
       "      <th>0</th>\n",
       "      <td>None</td>\n",
       "      <td>PNone</td>\n",
       "      <td>1</td>\n",
       "    </tr>\n",
       "    <tr>\n",
       "      <th>1</th>\n",
       "      <td>U10000000225</td>\n",
       "      <td>P0007107111</td>\n",
       "      <td>1</td>\n",
       "    </tr>\n",
       "    <tr>\n",
       "      <th>2</th>\n",
       "      <td>U10000000225</td>\n",
       "      <td>P0007107122</td>\n",
       "      <td>1</td>\n",
       "    </tr>\n",
       "    <tr>\n",
       "      <th>3</th>\n",
       "      <td>U10000000225</td>\n",
       "      <td>P0007107413</td>\n",
       "      <td>1</td>\n",
       "    </tr>\n",
       "    <tr>\n",
       "      <th>4</th>\n",
       "      <td>U10000000225</td>\n",
       "      <td>P0009440001</td>\n",
       "      <td>1</td>\n",
       "    </tr>\n",
       "  </tbody>\n",
       "</table>\n",
       "</div>"
      ],
      "text/plain": [
       "            用户名           产品  views\n",
       "0          None        PNone      1\n",
       "1  U10000000225  P0007107111      1\n",
       "2  U10000000225  P0007107122      1\n",
       "3  U10000000225  P0007107413      1\n",
       "4  U10000000225  P0009440001      1"
      ]
     },
     "execution_count": 19,
     "metadata": {},
     "output_type": "execute_result"
    }
   ],
   "source": [
    "views_cnt = view.groupby(['用户名','产品'])['产品'].count().reset_index(name='views')\n",
    "views_cnt.head()"
   ]
  },
  {
   "cell_type": "markdown",
   "metadata": {},
   "source": [
    "## 合并购买与浏览记录"
   ]
  },
  {
   "cell_type": "code",
   "execution_count": 22,
   "metadata": {},
   "outputs": [
    {
     "data": {
      "text/html": [
       "<div>\n",
       "<style scoped>\n",
       "    .dataframe tbody tr th:only-of-type {\n",
       "        vertical-align: middle;\n",
       "    }\n",
       "\n",
       "    .dataframe tbody tr th {\n",
       "        vertical-align: top;\n",
       "    }\n",
       "\n",
       "    .dataframe thead th {\n",
       "        text-align: right;\n",
       "    }\n",
       "</style>\n",
       "<table border=\"1\" class=\"dataframe\">\n",
       "  <thead>\n",
       "    <tr style=\"text-align: right;\">\n",
       "      <th></th>\n",
       "      <th>用户名</th>\n",
       "      <th>产品</th>\n",
       "      <th>buys</th>\n",
       "      <th>views</th>\n",
       "    </tr>\n",
       "  </thead>\n",
       "  <tbody>\n",
       "    <tr>\n",
       "      <th>0</th>\n",
       "      <td>U10000044910</td>\n",
       "      <td>P0018800250</td>\n",
       "      <td>1.0</td>\n",
       "      <td>2</td>\n",
       "    </tr>\n",
       "    <tr>\n",
       "      <th>1</th>\n",
       "      <td>U10000056953</td>\n",
       "      <td>P0013834251</td>\n",
       "      <td>1.0</td>\n",
       "      <td>7</td>\n",
       "    </tr>\n",
       "    <tr>\n",
       "      <th>2</th>\n",
       "      <td>U10000065461</td>\n",
       "      <td>P0023597022</td>\n",
       "      <td>1.0</td>\n",
       "      <td>1</td>\n",
       "    </tr>\n",
       "    <tr>\n",
       "      <th>3</th>\n",
       "      <td>U10000092625</td>\n",
       "      <td>P0023729451</td>\n",
       "      <td>1.0</td>\n",
       "      <td>4</td>\n",
       "    </tr>\n",
       "    <tr>\n",
       "      <th>4</th>\n",
       "      <td>U10000092625</td>\n",
       "      <td>P0024236730</td>\n",
       "      <td>1.0</td>\n",
       "      <td>4</td>\n",
       "    </tr>\n",
       "  </tbody>\n",
       "</table>\n",
       "</div>"
      ],
      "text/plain": [
       "            用户名           产品  buys  views\n",
       "0  U10000044910  P0018800250   1.0      2\n",
       "1  U10000056953  P0013834251   1.0      7\n",
       "2  U10000065461  P0023597022   1.0      1\n",
       "3  U10000092625  P0023729451   1.0      4\n",
       "4  U10000092625  P0024236730   1.0      4"
      ]
     },
     "execution_count": 22,
     "metadata": {},
     "output_type": "execute_result"
    }
   ],
   "source": [
    "merge_df = pd.merge(orders_cnt,views_cnt,on=['用户名','产品'],how = 'right')\n",
    "merge_df.head()"
   ]
  },
  {
   "cell_type": "markdown",
   "metadata": {},
   "source": [
    "### 了解使用者在不同时间的消费习惯"
   ]
  },
  {
   "cell_type": "code",
   "execution_count": 24,
   "metadata": {},
   "outputs": [
    {
     "name": "stdout",
     "output_type": "stream",
     "text": [
      "<class 'pandas.core.frame.DataFrame'>\n",
      "RangeIndex: 1048575 entries, 0 to 1048574\n",
      "Data columns (total 4 columns):\n",
      "时间     1048575 non-null datetime64[ns]\n",
      "动作     1048575 non-null object\n",
      "用户名    1048575 non-null object\n",
      "产品     1048575 non-null object\n",
      "dtypes: datetime64[ns](1), object(3)\n",
      "memory usage: 32.0+ MB\n"
     ]
    }
   ],
   "source": [
    "view.info()"
   ]
  },
  {
   "cell_type": "code",
   "execution_count": 26,
   "metadata": {},
   "outputs": [
    {
     "data": {
      "text/plain": [
       "0    2015-07-01\n",
       "1    2015-07-01\n",
       "2    2015-07-01\n",
       "3    2015-07-01\n",
       "4    2015-07-01\n",
       "Name: 时间, dtype: object"
      ]
     },
     "execution_count": 26,
     "metadata": {},
     "output_type": "execute_result"
    }
   ],
   "source": [
    "view['时间'].dt.date.head()"
   ]
  },
  {
   "cell_type": "code",
   "execution_count": 29,
   "metadata": {},
   "outputs": [
    {
     "data": {
      "text/plain": [
       "时间\n",
       "2015-07-01    24568\n",
       "2015-07-02    17043\n",
       "2015-07-03    28041\n",
       "2015-07-04    28625\n",
       "2015-07-05    15522\n",
       "Name: 动作, dtype: int64"
      ]
     },
     "execution_count": 29,
     "metadata": {},
     "output_type": "execute_result"
    }
   ],
   "source": [
    "views_cnt_by_date = view.groupby(view['时间'].dt.date)['动作'].count()\n",
    "views_cnt_by_date.head()"
   ]
  },
  {
   "cell_type": "markdown",
   "metadata": {},
   "source": [
    "### 绘制图形"
   ]
  },
  {
   "cell_type": "code",
   "execution_count": 34,
   "metadata": {},
   "outputs": [
    {
     "name": "stdout",
     "output_type": "stream",
     "text": [
      "Populating the interactive namespace from numpy and matplotlib\n"
     ]
    },
    {
     "data": {
      "text/plain": [
       "<matplotlib.axes._subplots.AxesSubplot at 0x1ad0c70ef60>"
      ]
     },
     "execution_count": 34,
     "metadata": {},
     "output_type": "execute_result"
    },
    {
     "data": {
      "image/png": "[encoded data removed]",
      "text/plain": [
       "<Figure size 720x360 with 1 Axes>"
      ]
     },
     "metadata": {
      "needs_background": "light"
     },
     "output_type": "display_data"
    }
   ],
   "source": [
    "%pylab inline\n",
    "views_cnt_by_date.plot(kind = 'line',figsize=[10,5],title='view count by date')"
   ]
  },
  {
   "cell_type": "code",
   "execution_count": 31,
   "metadata": {},
   "outputs": [
    {
     "data": {
      "text/plain": [
       "时间\n",
       "0    62793\n",
       "1    38297\n",
       "2    21691\n",
       "3    14007\n",
       "4     9615\n",
       "Name: 动作, dtype: int64"
      ]
     },
     "execution_count": 31,
     "metadata": {},
     "output_type": "execute_result"
    }
   ],
   "source": [
    "views_cnt_by_hour = view.groupby(view['时间'].dt.hour)['动作'].count()\n",
    "views_cnt_by_hour.head()"
   ]
  },
  {
   "cell_type": "code",
   "execution_count": 33,
   "metadata": {},
   "outputs": [
    {
     "name": "stdout",
     "output_type": "stream",
     "text": [
      "Populating the interactive namespace from numpy and matplotlib\n"
     ]
    },
    {
     "data": {
      "text/plain": [
       "<matplotlib.axes._subplots.AxesSubplot at 0x1ad0bd41f98>"
      ]
     },
     "execution_count": 33,
     "metadata": {},
     "output_type": "execute_result"
    },
    {
     "data": {
      "image/png": "[encoded data removed]",
      "text/plain": [
       "<Figure size 720x360 with 1 Axes>"
      ]
     },
     "metadata": {
      "needs_background": "light"
     },
     "output_type": "display_data"
    }
   ],
   "source": [
    "%pylab inline\n",
    "views_cnt_by_hour.plot(kind='line',title='view count by hour',figsize=[10,5])"
   ]
  },
  {
   "cell_type": "markdown",
   "metadata": {},
   "source": [
    "### 合并用户每天的购买与浏览次数"
   ]
  },
  {
   "cell_type": "code",
   "execution_count": 39,
   "metadata": {
    "collapsed": true
   },
   "outputs": [],
   "source": [
    "view_daily_cnt = view.groupby(view['时间'].dt.date)['动作'].count()\n",
    "order_daily_cnt =  view.groupby(df['时间'].dt.date)['动作'].count()"
   ]
  },
  {
   "cell_type": "code",
   "execution_count": 47,
   "metadata": {},
   "outputs": [
    {
     "name": "stderr",
     "output_type": "stream",
     "text": [
      "c:\\users\\administrator\\appdata\\local\\programs\\python\\python36\\lib\\site-packages\\ipykernel_launcher.py:1: FutureWarning: Sorting because non-concatenation axis is not aligned. A future version\n",
      "of pandas will change to not sort by default.\n",
      "\n",
      "To accept the future behavior, pass 'sort=False'.\n",
      "\n",
      "To retain the current behavior and silence the warning, pass 'sort=True'.\n",
      "\n",
      "  \"\"\"Entry point for launching an IPython kernel.\n"
     ]
    },
    {
     "data": {
      "text/plain": [
       "<matplotlib.axes._subplots.AxesSubplot at 0x1ad0e713e48>"
      ]
     },
     "execution_count": 47,
     "metadata": {},
     "output_type": "execute_result"
    },
    {
     "data": {
      "image/png": "[encoded data removed]",
      "text/plain": [
       "<Figure size 720x360 with 1 Axes>"
      ]
     },
     "metadata": {
      "needs_background": "light"
     },
     "output_type": "display_data"
    }
   ],
   "source": [
    "end = pd.concat([view_daily_cnt,order_daily_cnt],axis=1)\n",
    "end.dropna(inplace=True)\n",
    "end.columns = ['views','orders']\n",
    "\n",
    "end.plot(kind = 'line',figsize=[10,5],title='view and buys')"
   ]
  },
  {
   "cell_type": "code",
   "execution_count": null,
   "metadata": {
    "collapsed": true
   },
   "outputs": [],
   "source": []
  }
 ],
 "metadata": {
  "kernelspec": {
   "display_name": "Python 3",
   "language": "python",
   "name": "python3"
  },
  "language_info": {
   "codemirror_mode": {
    "name": "ipython",
    "version": 3
   },
   "file_extension": ".py",
   "mimetype": "text/x-python",
   "name": "python",
   "nbconvert_exporter": "python",
   "pygments_lexer": "ipython3",
   "version": "3.6.3"
  }
 },
 "nbformat": 4,
 "nbformat_minor": 2
}
